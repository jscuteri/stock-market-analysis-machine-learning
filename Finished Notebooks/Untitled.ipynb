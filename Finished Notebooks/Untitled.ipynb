{
 "cells": [
  {
   "cell_type": "code",
   "execution_count": null,
   "id": "d49a34db",
   "metadata": {},
   "outputs": [],
   "source": [
    "from flask import Flask, render_template, redirect\n",
    "from flask_pymongo import PyMongo\n",
    "import stock_predict"
   ]
  },
  {
   "cell_type": "code",
   "execution_count": null,
   "id": "54c9889a",
   "metadata": {},
   "outputs": [],
   "source": [
    "app = Flask(__name__)\n",
    "\n",
    "app.config[\"MONGO_URI\"] = \"mongodb://localhost:27017/placeholderdb\"\n",
    "mongo = PyMongo(app)\n",
    "\n",
    "@app.route(\"/form\")\n",
    "def index():\n",
    "    stocksweb = mongo.db.variable_placeholder.find_one()\n",
    "    return render_template(\"index.html\", variable_placeholder=stocksweb)\n",
    "\n",
    "\n",
    "@app.route('/data')\n",
    "def data():\n",
    "    # create individual variables for each collection\n",
    "    industry_data = list(db['inudstrydb'].find())\n",
    "\n",
    "\n",
    "if __name__ == \"__main__\":\n",
    "    app.run(debug=True, use_reloader=False)"
   ]
  }
 ],
 "metadata": {
  "kernelspec": {
   "display_name": "Python [conda env:PythonData] *",
   "language": "python",
   "name": "conda-env-PythonData-py"
  },
  "language_info": {
   "codemirror_mode": {
    "name": "ipython",
    "version": 3
   },
   "file_extension": ".py",
   "mimetype": "text/x-python",
   "name": "python",
   "nbconvert_exporter": "python",
   "pygments_lexer": "ipython3",
   "version": "3.8.11"
  }
 },
 "nbformat": 4,
 "nbformat_minor": 5
}
